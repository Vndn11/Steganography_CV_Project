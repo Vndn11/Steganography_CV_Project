{
 "cells": [
  {
   "cell_type": "code",
   "execution_count": 11,
   "id": "3f52cf78",
   "metadata": {},
   "outputs": [
    {
     "name": "stderr",
     "output_type": "stream",
     "text": [
      "WARNING:absl:No training configuration found in the save file, so the model was *not* compiled. Compile it manually.\n"
     ]
    },
    {
     "name": "stdout",
     "output_type": "stream",
     "text": [
      "0110001001101001011011100110000101110010011110010101111101110011011101000111001001101001011011100110011100100000001111010010000001110100011001010111100001110100010111110111010001101111010111110110001001101001011011100110000101110010011110010101111101110011011101000111001001101001011011100110011100101000011101000110010101111000011101000010100100001010011100000111001001101001011011100111010000101000011000100110100101101110011000010111001001111001010111110111001101110100011100100110100101101110011001110010100100001010011011100110111101101001011100110110010101011111011101100110010101100011011101000110111101110010001000000011110100100000011011010110000101110000010111110110001001101001011011100110000101110010011110010101111101110100011011110101111101101110011011110110100101110011011001010010100001100010011010010110111001100001011100100111100101011111011100110111010001110010011010010110111001100111001011000010000001110100011000010111001001100111011001010111010001011111011001000110100101101101001111010011000100110000001100000010100100001010011011100110111101101001011100110110010101011111011101100110010101100011011101000110111101110010001000000011110100100000011011100111000000101110011001010111100001110000011000010110111001100100010111110110010001101001011011010111001100101000011011100110111101101001011100110110010101011111011101100110010101100011011101000110111101110010001011000010000001100001011110000110100101110011001111010011000000101001001000000010000000100011001000000101000001110010011001010111000001100001011100100110010100100000011001100110111101110010001000000110110101101111011001000110010101101100001000000110100101101110011100000111010101110100\n",
      "\u001b[1m1/1\u001b[0m \u001b[32m━━━━━━━━━━━━━━━━━━━━\u001b[0m\u001b[37m\u001b[0m \u001b[1m0s\u001b[0m 86ms/step\n"
     ]
    }
   ],
   "source": [
    "# This main block of generator script which will be used to create stego image at sender end\n",
    "import os\n",
    "import numpy as np\n",
    "import tensorflow as tf\n",
    "from tensorflow.keras import layers, models\n",
    "import matplotlib.pyplot as plt\n",
    "\n",
    "# Load the trained generator model\n",
    "generator = tf.keras.models.load_model('/Users/anichougule/Masters/Code/Python/SEM3/Computer Vision/cs512-f24-aniket-chougule/Project/Data/generator_model_nlp.h5')\n",
    "\n",
    "# Function to convert text to a binary string\n",
    "def text_to_binary_string(text):\n",
    "    return ''.join(format(ord(char), '08b') for char in text)\n",
    "\n",
    "# Function to map binary data to a noise vector\n",
    "def map_binary_to_noise(binary_string, target_dim=100, sigma=3):\n",
    "    noise_vector = []\n",
    "    for i in range(0, len(binary_string), sigma):\n",
    "        bit_group = binary_string[i:i + sigma]\n",
    "        if len(bit_group) < sigma:\n",
    "            bit_group = bit_group.ljust(sigma, '0')  # Pad with zeros if needed\n",
    "        m = int(bit_group, 2)\n",
    "        noise_value = (m / (2**sigma - 1)) * 2 - 1  # Scale to [-1, 1]\n",
    "        noise_vector.append(noise_value)\n",
    "    if len(noise_vector) < target_dim:\n",
    "        repeat_count = (target_dim - len(noise_vector)) // len(noise_vector)\n",
    "        remainder = (target_dim - len(noise_vector)) % len(noise_vector)\n",
    "        noise_vector = np.concatenate([noise_vector] * (repeat_count + 2))[:target_dim]\n",
    "    else:\n",
    "        noise_vector = np.array(noise_vector[:target_dim])\n",
    "    return noise_vector\n",
    "\n",
    "# Generate and save a stego image\n",
    "def generate_stego_image(text, output_dir='/Users/anichougule/Downloads/', image_name='stego_image.png'):\n",
    "    os.makedirs(output_dir, exist_ok=True)\n",
    "    \n",
    "    # Convert the text to a binary string and map to noise\n",
    "    binary_string = text_to_binary_string(text)\n",
    "    print(binary_string)\n",
    "    noise_vector = map_binary_to_noise(binary_string, target_dim=100)\n",
    "    noise_vector = np.expand_dims(noise_vector, axis=0)  # Prepare for model input\n",
    "    \n",
    "    # Generate the stego image\n",
    "    stego_image = generator.predict(noise_vector)\n",
    "    \n",
    "    # Rescale image to [0, 255] and save\n",
    "    image = (stego_image[0] * 127.5 + 127.5).astype(np.uint8)\n",
    "    plt.imsave(os.path.join(output_dir, image_name), image)\n",
    "\n",
    "# Example usage\n",
    "test_sentence = \"This the testing of Stegnography using GAN. \"\n",
    "generate_stego_image(test_sentence, image_name='test_stego_image.png')\n"
   ]
  }
 ],
 "metadata": {
  "kernelspec": {
   "display_name": "Python (myenv)",
   "language": "python",
   "name": "myenv"
  },
  "language_info": {
   "codemirror_mode": {
    "name": "ipython",
    "version": 3
   },
   "file_extension": ".py",
   "mimetype": "text/x-python",
   "name": "python",
   "nbconvert_exporter": "python",
   "pygments_lexer": "ipython3",
   "version": "3.11.5"
  }
 },
 "nbformat": 4,
 "nbformat_minor": 5
}
