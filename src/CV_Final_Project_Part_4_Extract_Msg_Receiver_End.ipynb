{
 "cells": [
  {
   "cell_type": "code",
   "execution_count": 7,
   "id": "669843ea",
   "metadata": {},
   "outputs": [
    {
     "name": "stderr",
     "output_type": "stream",
     "text": [
      "WARNING:absl:Compiled the loaded model, but the compiled metrics have yet to be built. `model.compile_metrics` will be empty until you train or evaluate the model.\n"
     ]
    },
    {
     "name": "stdout",
     "output_type": "stream",
     "text": [
      "WARNING:tensorflow:6 out of the last 6 calls to <function TensorFlowTrainer.make_predict_function.<locals>.one_step_on_data_distributed at 0x31a27b7e0> triggered tf.function retracing. Tracing is expensive and the excessive number of tracings could be due to (1) creating @tf.function repeatedly in a loop, (2) passing tensors with different shapes, (3) passing Python objects instead of tensors. For (1), please define your @tf.function outside of the loop. For (2), @tf.function has reduce_retracing=True option that can avoid unnecessary retracing. For (3), please refer to https://www.tensorflow.org/guide/function#controlling_retracing and https://www.tensorflow.org/api_docs/python/tf/function for  more details.\n"
     ]
    },
    {
     "name": "stderr",
     "output_type": "stream",
     "text": [
      "WARNING:tensorflow:6 out of the last 6 calls to <function TensorFlowTrainer.make_predict_function.<locals>.one_step_on_data_distributed at 0x31a27b7e0> triggered tf.function retracing. Tracing is expensive and the excessive number of tracings could be due to (1) creating @tf.function repeatedly in a loop, (2) passing tensors with different shapes, (3) passing Python objects instead of tensors. For (1), please define your @tf.function outside of the loop. For (2), @tf.function has reduce_retracing=True option that can avoid unnecessary retracing. For (3), please refer to https://www.tensorflow.org/guide/function#controlling_retracing and https://www.tensorflow.org/api_docs/python/tf/function for  more details.\n"
     ]
    },
    {
     "name": "stdout",
     "output_type": "stream",
     "text": [
      "\u001b[1m1/1\u001b[0m \u001b[32m━━━━━━━━━━━━━━━━━━━━\u001b[0m\u001b[37m\u001b[0m \u001b[1m0s\u001b[0m 193ms/step\n",
      "110000000001000110101000000010110110001000110000101010000011000110000000110000001101000000100100001100110101110110010110000110110010110100110001110011000001001110001011001101101010000110000011001110101110110000010000100000000110110011110110110000101000011010110000010110000100010000001001000100011110\n",
      "Extracted text: À\u0011¨\u000b",
      "b0¨1ÀÐ$3]\u001b-1Ì\u00136¡:ì\u0010löÂ°XD\t\u0011\n"
     ]
    }
   ],
   "source": [
    "## This main block of extractoe script which will be used to extract message from stego image at reciver end.\n",
    "import numpy as np\n",
    "import tensorflow as tf\n",
    "import matplotlib.pyplot as plt\n",
    "from tensorflow.keras.preprocessing import image as k_image\n",
    "\n",
    "# Load the trained extractor model\n",
    "extractor = tf.keras.models.load_model('/Users/anichougule/Masters/Code/Python/SEM3/Computer Vision/cs512-f24-aniket-chougule/Project/Data/e_models_nlp_1.h5')\n",
    "\n",
    "# Function to convert a noise vector back to a binary string\n",
    "def noise_to_binary_string(noise_vector, sigma=3):\n",
    "    binary_string = ''\n",
    "    for value in noise_vector:\n",
    "        scaled_value = int(((value + 1) / 2) * (2**sigma - 1))  # Reverse the scaling\n",
    "        binary_string += format(scaled_value, f'0{sigma}b')\n",
    "    return binary_string\n",
    "\n",
    "# Function to convert a binary string to text\n",
    "def binary_string_to_text(binary_string):\n",
    "    chars = [binary_string[i:i + 8] for i in range(0, len(binary_string), 8)]\n",
    "    return ''.join(chr(int(char, 2)) for char in chars if len(char) == 8)\n",
    "\n",
    "# Function to load an image, preprocess, and extract the hidden text\n",
    "def extract_text_from_stego_image(image_path):\n",
    "    # Load and preprocess the image\n",
    "    img = k_image.load_img(image_path, target_size=(32, 32))\n",
    "    img_array = k_image.img_to_array(img) / 127.5 - 1.0  # Normalize to [-1, 1]\n",
    "    img_array = np.expand_dims(img_array, axis=0)  # Prepare for model input\n",
    "    \n",
    "    # Extract the noise vector from the image\n",
    "    extracted_noise_vector = extractor.predict(img_array)\n",
    "    \n",
    "    # Convert the noise vector to a binary string and decode it\n",
    "    binary_string = noise_to_binary_string(extracted_noise_vector.flatten(), sigma=3)\n",
    "    print(binary_string)\n",
    "    extracted_text = binary_string_to_text(binary_string)\n",
    "    \n",
    "    print(f\"Extracted text: {extracted_text}\")\n",
    "\n",
    "# Example usage\n",
    "extract_text_from_stego_image('/Users/anichougule/Downloads/test_stego_image.png')\n"
   ]
  },
  {
   "cell_type": "code",
   "execution_count": null,
   "id": "2803e56c",
   "metadata": {},
   "outputs": [],
   "source": []
  }
 ],
 "metadata": {
  "kernelspec": {
   "display_name": "Python (myenv)",
   "language": "python",
   "name": "myenv"
  },
  "language_info": {
   "codemirror_mode": {
    "name": "ipython",
    "version": 3
   },
   "file_extension": ".py",
   "mimetype": "text/x-python",
   "name": "python",
   "nbconvert_exporter": "python",
   "pygments_lexer": "ipython3",
   "version": "3.11.5"
  }
 },
 "nbformat": 4,
 "nbformat_minor": 5
}
